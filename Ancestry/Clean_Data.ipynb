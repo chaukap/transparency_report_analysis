{
 "cells": [
  {
   "cell_type": "markdown",
   "id": "88914d6d",
   "metadata": {},
   "source": [
    "# Ancestry.com\n",
    "\n",
    "Ancestry.com provides separate data for request related to financial fraud and request for geneological information. I'm only aggregating the requests for geneological information. This information aggregated from their [transparency reports](https://www.ancestry.com/cs/transparency-h2-2020). "
   ]
  },
  {
   "cell_type": "code",
   "execution_count": 1,
   "id": "0750aed3",
   "metadata": {},
   "outputs": [],
   "source": [
    "import pandas as pd"
   ]
  },
  {
   "cell_type": "code",
   "execution_count": 3,
   "id": "b875f364",
   "metadata": {},
   "outputs": [],
   "source": [
    "pd.DataFrame.from_dict({\n",
    "    \"requests\": [6],\n",
    "    \"complied\": [1]\n",
    "}).to_csv(\"../Clean_Data/Ancestry.csv\", index=False)"
   ]
  },
  {
   "cell_type": "code",
   "execution_count": null,
   "id": "486407ce",
   "metadata": {},
   "outputs": [],
   "source": []
  }
 ],
 "metadata": {
  "kernelspec": {
   "display_name": "Python 3",
   "language": "python",
   "name": "python3"
  },
  "language_info": {
   "codemirror_mode": {
    "name": "ipython",
    "version": 3
   },
   "file_extension": ".py",
   "mimetype": "text/x-python",
   "name": "python",
   "nbconvert_exporter": "python",
   "pygments_lexer": "ipython3",
   "version": "3.6.9"
  }
 },
 "nbformat": 4,
 "nbformat_minor": 5
}
