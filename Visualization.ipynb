{
 "cells": [
  {
   "cell_type": "code",
   "execution_count": 1,
   "id": "23215638",
   "metadata": {},
   "outputs": [],
   "source": [
    "import pandas as pd\n",
    "import spotipy\n",
    "import numpy as np\n",
    "from spotipy.oauth2 import SpotifyOAuth\n",
    "import networkx as nx\n",
    "import matplotlib.pyplot as plt\n",
    "import plotly.offline as py\n",
    "import plotly.graph_objects as go\n",
    "import json\n",
    "import plotly.express as px\n",
    "import kaleido\n",
    "import plotly.io as pio\n",
    "pio.kaleido.scope.mathjax = None\n"
   ]
  },
  {
   "cell_type": "code",
   "execution_count": 27,
   "id": "b4fcf6ea",
   "metadata": {},
   "outputs": [
    {
     "data": {
      "text/html": [
       "<div>\n",
       "<style scoped>\n",
       "    .dataframe tbody tr th:only-of-type {\n",
       "        vertical-align: middle;\n",
       "    }\n",
       "\n",
       "    .dataframe tbody tr th {\n",
       "        vertical-align: top;\n",
       "    }\n",
       "\n",
       "    .dataframe thead th {\n",
       "        text-align: right;\n",
       "    }\n",
       "</style>\n",
       "<table border=\"1\" class=\"dataframe\">\n",
       "  <thead>\n",
       "    <tr style=\"text-align: right;\">\n",
       "      <th></th>\n",
       "      <th></th>\n",
       "      <th>half</th>\n",
       "      <th>total_requests</th>\n",
       "      <th>total_requests_accounts</th>\n",
       "    </tr>\n",
       "    <tr>\n",
       "      <th>site</th>\n",
       "      <th>year</th>\n",
       "      <th></th>\n",
       "      <th></th>\n",
       "      <th></th>\n",
       "    </tr>\n",
       "  </thead>\n",
       "  <tbody>\n",
       "    <tr>\n",
       "      <th rowspan=\"8\" valign=\"top\">Facebook</th>\n",
       "      <th>2014</th>\n",
       "      <td>1.5</td>\n",
       "      <td>14853.5</td>\n",
       "      <td>22699.0</td>\n",
       "    </tr>\n",
       "    <tr>\n",
       "      <th>2015</th>\n",
       "      <td>1.5</td>\n",
       "      <td>18406.0</td>\n",
       "      <td>28310.0</td>\n",
       "    </tr>\n",
       "    <tr>\n",
       "      <th>2016</th>\n",
       "      <td>1.5</td>\n",
       "      <td>24934.0</td>\n",
       "      <td>40221.5</td>\n",
       "    </tr>\n",
       "    <tr>\n",
       "      <th>2017</th>\n",
       "      <td>1.5</td>\n",
       "      <td>32729.0</td>\n",
       "      <td>52952.5</td>\n",
       "    </tr>\n",
       "    <tr>\n",
       "      <th>2018</th>\n",
       "      <td>1.5</td>\n",
       "      <td>41901.0</td>\n",
       "      <td>67075.0</td>\n",
       "    </tr>\n",
       "    <tr>\n",
       "      <th>2019</th>\n",
       "      <td>1.5</td>\n",
       "      <td>50931.0</td>\n",
       "      <td>82391.0</td>\n",
       "    </tr>\n",
       "    <tr>\n",
       "      <th>2020</th>\n",
       "      <td>1.5</td>\n",
       "      <td>61395.0</td>\n",
       "      <td>104192.5</td>\n",
       "    </tr>\n",
       "    <tr>\n",
       "      <th>2021</th>\n",
       "      <td>1.0</td>\n",
       "      <td>63657.0</td>\n",
       "      <td>111117.0</td>\n",
       "    </tr>\n",
       "    <tr>\n",
       "      <th rowspan=\"7\" valign=\"top\">Google</th>\n",
       "      <th>2014</th>\n",
       "      <td>1.5</td>\n",
       "      <td>13405.0</td>\n",
       "      <td>29795.0</td>\n",
       "    </tr>\n",
       "    <tr>\n",
       "      <th>2015</th>\n",
       "      <td>1.5</td>\n",
       "      <td>17358.0</td>\n",
       "      <td>41275.0</td>\n",
       "    </tr>\n",
       "    <tr>\n",
       "      <th>2016</th>\n",
       "      <td>1.5</td>\n",
       "      <td>19693.0</td>\n",
       "      <td>41562.0</td>\n",
       "    </tr>\n",
       "    <tr>\n",
       "      <th>2017</th>\n",
       "      <td>1.5</td>\n",
       "      <td>23377.5</td>\n",
       "      <td>49916.0</td>\n",
       "    </tr>\n",
       "    <tr>\n",
       "      <th>2018</th>\n",
       "      <td>1.5</td>\n",
       "      <td>30979.5</td>\n",
       "      <td>85703.5</td>\n",
       "    </tr>\n",
       "    <tr>\n",
       "      <th>2019</th>\n",
       "      <td>1.5</td>\n",
       "      <td>42455.5</td>\n",
       "      <td>99028.0</td>\n",
       "    </tr>\n",
       "    <tr>\n",
       "      <th>2020</th>\n",
       "      <td>1.5</td>\n",
       "      <td>54840.5</td>\n",
       "      <td>126235.0</td>\n",
       "    </tr>\n",
       "    <tr>\n",
       "      <th rowspan=\"7\" valign=\"top\">Twitter</th>\n",
       "      <th>2014</th>\n",
       "      <td>1.5</td>\n",
       "      <td>1439.5</td>\n",
       "      <td>2608.5</td>\n",
       "    </tr>\n",
       "    <tr>\n",
       "      <th>2015</th>\n",
       "      <td>1.5</td>\n",
       "      <td>2554.5</td>\n",
       "      <td>6879.5</td>\n",
       "    </tr>\n",
       "    <tr>\n",
       "      <th>2016</th>\n",
       "      <td>1.5</td>\n",
       "      <td>2412.0</td>\n",
       "      <td>6813.5</td>\n",
       "    </tr>\n",
       "    <tr>\n",
       "      <th>2017</th>\n",
       "      <td>1.5</td>\n",
       "      <td>1936.0</td>\n",
       "      <td>6385.0</td>\n",
       "    </tr>\n",
       "    <tr>\n",
       "      <th>2018</th>\n",
       "      <td>1.5</td>\n",
       "      <td>2161.5</td>\n",
       "      <td>6543.5</td>\n",
       "    </tr>\n",
       "    <tr>\n",
       "      <th>2019</th>\n",
       "      <td>1.5</td>\n",
       "      <td>2195.5</td>\n",
       "      <td>6560.0</td>\n",
       "    </tr>\n",
       "    <tr>\n",
       "      <th>2020</th>\n",
       "      <td>1.5</td>\n",
       "      <td>3336.0</td>\n",
       "      <td>20522.5</td>\n",
       "    </tr>\n",
       "  </tbody>\n",
       "</table>\n",
       "</div>"
      ],
      "text/plain": [
       "               half  total_requests  total_requests_accounts\n",
       "site     year                                               \n",
       "Facebook 2014   1.5         14853.5                  22699.0\n",
       "         2015   1.5         18406.0                  28310.0\n",
       "         2016   1.5         24934.0                  40221.5\n",
       "         2017   1.5         32729.0                  52952.5\n",
       "         2018   1.5         41901.0                  67075.0\n",
       "         2019   1.5         50931.0                  82391.0\n",
       "         2020   1.5         61395.0                 104192.5\n",
       "         2021   1.0         63657.0                 111117.0\n",
       "Google   2014   1.5         13405.0                  29795.0\n",
       "         2015   1.5         17358.0                  41275.0\n",
       "         2016   1.5         19693.0                  41562.0\n",
       "         2017   1.5         23377.5                  49916.0\n",
       "         2018   1.5         30979.5                  85703.5\n",
       "         2019   1.5         42455.5                  99028.0\n",
       "         2020   1.5         54840.5                 126235.0\n",
       "Twitter  2014   1.5          1439.5                   2608.5\n",
       "         2015   1.5          2554.5                   6879.5\n",
       "         2016   1.5          2412.0                   6813.5\n",
       "         2017   1.5          1936.0                   6385.0\n",
       "         2018   1.5          2161.5                   6543.5\n",
       "         2019   1.5          2195.5                   6560.0\n",
       "         2020   1.5          3336.0                  20522.5"
      ]
     },
     "execution_count": 27,
     "metadata": {},
     "output_type": "execute_result"
    }
   ],
   "source": [
    "twitter = pd.read_csv(\"Clean_Data/Twitter.csv\")\n",
    "facebook = pd.read_csv(\"Clean_Data/Facebook.csv\")\n",
    "google = pd.read_csv(\"Clean_Data/Google.csv\")\n",
    "twitter[\"site\"] = \"Twitter\"\n",
    "facebook[\"site\"] = \"Facebook\"\n",
    "google[\"site\"] = \"Google\"\n",
    "common_names = [\"site\", \"year\", \"half\", \"total_requests\", \"total_requests_accounts\"]\n",
    "\n",
    "df = pd.concat([twitter[common_names], facebook[common_names], google[common_names]])\n",
    "df = df[df.year > 2013]\n",
    "df = df.dropna()\n",
    "df.groupby([\"site\", \"year\"]).mean()"
   ]
  },
  {
   "cell_type": "code",
   "execution_count": 29,
   "id": "295dff92",
   "metadata": {},
   "outputs": [
    {
     "data": {
      "text/html": [
       "<div>\n",
       "<style scoped>\n",
       "    .dataframe tbody tr th:only-of-type {\n",
       "        vertical-align: middle;\n",
       "    }\n",
       "\n",
       "    .dataframe tbody tr th {\n",
       "        vertical-align: top;\n",
       "    }\n",
       "\n",
       "    .dataframe thead th {\n",
       "        text-align: right;\n",
       "    }\n",
       "</style>\n",
       "<table border=\"1\" class=\"dataframe\">\n",
       "  <thead>\n",
       "    <tr style=\"text-align: right;\">\n",
       "      <th></th>\n",
       "      <th>count</th>\n",
       "      <th>mean</th>\n",
       "      <th>std</th>\n",
       "      <th>min</th>\n",
       "      <th>25%</th>\n",
       "      <th>50%</th>\n",
       "      <th>75%</th>\n",
       "      <th>max</th>\n",
       "    </tr>\n",
       "    <tr>\n",
       "      <th>year</th>\n",
       "      <th></th>\n",
       "      <th></th>\n",
       "      <th></th>\n",
       "      <th></th>\n",
       "      <th></th>\n",
       "      <th></th>\n",
       "      <th></th>\n",
       "      <th></th>\n",
       "    </tr>\n",
       "  </thead>\n",
       "  <tbody>\n",
       "    <tr>\n",
       "      <th>2014</th>\n",
       "      <td>6.0</td>\n",
       "      <td>1.833358</td>\n",
       "      <td>0.452450</td>\n",
       "      <td>1.522418</td>\n",
       "      <td>1.527774</td>\n",
       "      <td>1.627122</td>\n",
       "      <td>1.955609</td>\n",
       "      <td>2.663724</td>\n",
       "    </tr>\n",
       "    <tr>\n",
       "      <th>2015</th>\n",
       "      <td>6.0</td>\n",
       "      <td>2.202141</td>\n",
       "      <td>0.546245</td>\n",
       "      <td>1.512147</td>\n",
       "      <td>1.726516</td>\n",
       "      <td>2.380668</td>\n",
       "      <td>2.582203</td>\n",
       "      <td>2.781519</td>\n",
       "    </tr>\n",
       "    <tr>\n",
       "      <th>2016</th>\n",
       "      <td>6.0</td>\n",
       "      <td>2.177212</td>\n",
       "      <td>0.587350</td>\n",
       "      <td>1.594987</td>\n",
       "      <td>1.734077</td>\n",
       "      <td>2.109424</td>\n",
       "      <td>2.374080</td>\n",
       "      <td>3.178175</td>\n",
       "    </tr>\n",
       "    <tr>\n",
       "      <th>2017</th>\n",
       "      <td>6.0</td>\n",
       "      <td>2.387924</td>\n",
       "      <td>1.136136</td>\n",
       "      <td>1.597995</td>\n",
       "      <td>1.743545</td>\n",
       "      <td>2.118493</td>\n",
       "      <td>2.203013</td>\n",
       "      <td>4.642817</td>\n",
       "    </tr>\n",
       "    <tr>\n",
       "      <th>2018</th>\n",
       "      <td>6.0</td>\n",
       "      <td>2.453332</td>\n",
       "      <td>0.987159</td>\n",
       "      <td>1.539143</td>\n",
       "      <td>1.707009</td>\n",
       "      <td>2.272144</td>\n",
       "      <td>2.804961</td>\n",
       "      <td>4.135365</td>\n",
       "    </tr>\n",
       "    <tr>\n",
       "      <th>2019</th>\n",
       "      <td>6.0</td>\n",
       "      <td>2.301186</td>\n",
       "      <td>0.870335</td>\n",
       "      <td>1.610317</td>\n",
       "      <td>1.708238</td>\n",
       "      <td>2.101367</td>\n",
       "      <td>2.375643</td>\n",
       "      <td>3.949802</td>\n",
       "    </tr>\n",
       "    <tr>\n",
       "      <th>2020</th>\n",
       "      <td>6.0</td>\n",
       "      <td>3.414631</td>\n",
       "      <td>3.055978</td>\n",
       "      <td>1.669404</td>\n",
       "      <td>1.863880</td>\n",
       "      <td>2.301963</td>\n",
       "      <td>2.760157</td>\n",
       "      <td>9.583719</td>\n",
       "    </tr>\n",
       "    <tr>\n",
       "      <th>2021</th>\n",
       "      <td>1.0</td>\n",
       "      <td>1.745558</td>\n",
       "      <td>NaN</td>\n",
       "      <td>1.745558</td>\n",
       "      <td>1.745558</td>\n",
       "      <td>1.745558</td>\n",
       "      <td>1.745558</td>\n",
       "      <td>1.745558</td>\n",
       "    </tr>\n",
       "  </tbody>\n",
       "</table>\n",
       "</div>"
      ],
      "text/plain": [
       "      count      mean       std       min       25%       50%       75%  \\\n",
       "year                                                                      \n",
       "2014    6.0  1.833358  0.452450  1.522418  1.527774  1.627122  1.955609   \n",
       "2015    6.0  2.202141  0.546245  1.512147  1.726516  2.380668  2.582203   \n",
       "2016    6.0  2.177212  0.587350  1.594987  1.734077  2.109424  2.374080   \n",
       "2017    6.0  2.387924  1.136136  1.597995  1.743545  2.118493  2.203013   \n",
       "2018    6.0  2.453332  0.987159  1.539143  1.707009  2.272144  2.804961   \n",
       "2019    6.0  2.301186  0.870335  1.610317  1.708238  2.101367  2.375643   \n",
       "2020    6.0  3.414631  3.055978  1.669404  1.863880  2.301963  2.760157   \n",
       "2021    1.0  1.745558       NaN  1.745558  1.745558  1.745558  1.745558   \n",
       "\n",
       "           max  \n",
       "year            \n",
       "2014  2.663724  \n",
       "2015  2.781519  \n",
       "2016  3.178175  \n",
       "2017  4.642817  \n",
       "2018  4.135365  \n",
       "2019  3.949802  \n",
       "2020  9.583719  \n",
       "2021  1.745558  "
      ]
     },
     "execution_count": 29,
     "metadata": {},
     "output_type": "execute_result"
    }
   ],
   "source": [
    "df[\"accounts_per_request\"] = df.apply(lambda t: t.total_requests_accounts / t.total_requests, axis=1)\n",
    "df.groupby(\"year\").accounts_per_request.describe()"
   ]
  },
  {
   "cell_type": "code",
   "execution_count": 30,
   "id": "edbe5c24",
   "metadata": {},
   "outputs": [],
   "source": [
    "df[\"time\"] = df.apply(lambda y: (\"Jan-Jun\" if y.half == 1 else \"Jul-Dec\") + \" \" + str(y.year), axis=1)"
   ]
  },
  {
   "cell_type": "code",
   "execution_count": 41,
   "id": "2489e9fa",
   "metadata": {
    "scrolled": false
   },
   "outputs": [
    {
     "data": {
      "application/vnd.plotly.v1+json": {
       "config": {
        "plotlyServerURL": "https://plot.ly"
       },
       "data": [
        {
         "hovertext": [
          "Site: Twitter<br>Requests: 1257<br>Accounts: 1918",
          "Site: Twitter<br>Requests: 1622<br>Accounts: 3299",
          "Site: Twitter<br>Requests: 2436<br>Accounts: 6324",
          "Site: Twitter<br>Requests: 2673<br>Accounts: 7435",
          "Site: Twitter<br>Requests: 2520<br>Accounts: 8009",
          "Site: Twitter<br>Requests: 2304<br>Accounts: 5618",
          "Site: Twitter<br>Requests: 2111<br>Accounts: 4594",
          "Site: Twitter<br>Requests: 1761<br>Accounts: 8176",
          "Site: Twitter<br>Requests: 2231<br>Accounts: 9226",
          "Site: Twitter<br>Requests: 2092<br>Accounts: 3861",
          "Site: Twitter<br>Requests: 2120<br>Accounts: 4150",
          "Site: Twitter<br>Requests: 2271<br>Accounts: 8970",
          "Site: Twitter<br>Requests: 3429<br>Accounts: 9965",
          "Site: Twitter<br>Requests: 3243<br>Accounts: 31080",
          "Site: Facebook<br>Requests: 15433<br>Accounts: 23667",
          "Site: Facebook<br>Requests: 14274<br>Accounts: 21731",
          "Site: Facebook<br>Requests: 17577<br>Accounts: 26579",
          "Site: Facebook<br>Requests: 19235<br>Accounts: 30041",
          "Site: Facebook<br>Requests: 23854<br>Accounts: 38951",
          "Site: Facebook<br>Requests: 26014<br>Accounts: 41492",
          "Site: Facebook<br>Requests: 32716<br>Accounts: 52280",
          "Site: Facebook<br>Requests: 32742<br>Accounts: 53625",
          "Site: Facebook<br>Requests: 42466<br>Accounts: 70528",
          "Site: Facebook<br>Requests: 41336<br>Accounts: 63622",
          "Site: Facebook<br>Requests: 50741<br>Accounts: 82461",
          "Site: Facebook<br>Requests: 51121<br>Accounts: 82321",
          "Site: Facebook<br>Requests: 61528<br>Accounts: 106114",
          "Site: Facebook<br>Requests: 61262<br>Accounts: 102271",
          "Site: Facebook<br>Requests: 63657<br>Accounts: 111117",
          "Site: Google<br>Requests: 12539<br>Accounts: 21576",
          "Site: Google<br>Requests: 14271<br>Accounts: 38014",
          "Site: Google<br>Requests: 17054<br>Accounts: 43328",
          "Site: Google<br>Requests: 17662<br>Accounts: 39222",
          "Site: Google<br>Requests: 19987<br>Accounts: 43596",
          "Site: Google<br>Requests: 19399<br>Accounts: 39528",
          "Site: Google<br>Requests: 23730<br>Accounts: 48902",
          "Site: Google<br>Requests: 23025<br>Accounts: 50930",
          "Site: Google<br>Requests: 29634<br>Accounts: 84172",
          "Site: Google<br>Requests: 32325<br>Accounts: 87235",
          "Site: Google<br>Requests: 42629<br>Accounts: 103125",
          "Site: Google<br>Requests: 42282<br>Accounts: 94931",
          "Site: Google<br>Requests: 55124<br>Accounts: 125770",
          "Site: Google<br>Requests: 54557<br>Accounts: 126700"
         ],
         "marker": {
          "color": [
           "#1d9bf0",
           "#1d9bf0",
           "#1d9bf0",
           "#1d9bf0",
           "#1d9bf0",
           "#1d9bf0",
           "#1d9bf0",
           "#1d9bf0",
           "#1d9bf0",
           "#1d9bf0",
           "#1d9bf0",
           "#1d9bf0",
           "#1d9bf0",
           "#1d9bf0",
           "#2374e1",
           "#2374e1",
           "#2374e1",
           "#2374e1",
           "#2374e1",
           "#2374e1",
           "#2374e1",
           "#2374e1",
           "#2374e1",
           "#2374e1",
           "#2374e1",
           "#2374e1",
           "#2374e1",
           "#2374e1",
           "#2374e1",
           "#ce3c30",
           "#ce3c30",
           "#ce3c30",
           "#ce3c30",
           "#ce3c30",
           "#ce3c30",
           "#ce3c30",
           "#ce3c30",
           "#ce3c30",
           "#ce3c30",
           "#ce3c30",
           "#ce3c30",
           "#ce3c30",
           "#ce3c30"
          ],
          "line": {
           "color": "black",
           "width": 2
          },
          "size": 14
         },
         "mode": "markers",
         "type": "scatter",
         "x": [
          "Jan-Jun 2014",
          "Jul-Dec 2014",
          "Jan-Jun 2015",
          "Jul-Dec 2015",
          "Jan-Jun 2016",
          "Jul-Dec 2016",
          "Jan-Jun 2017",
          "Jul-Dec 2017",
          "Jan-Jun 2018",
          "Jul-Dec 2018",
          "Jan-Jun 2019",
          "Jul-Dec 2019",
          "Jan-Jun 2020",
          "Jul-Dec 2020",
          "Jan-Jun 2014",
          "Jul-Dec 2014",
          "Jan-Jun 2015",
          "Jul-Dec 2015",
          "Jan-Jun 2016",
          "Jul-Dec 2016",
          "Jan-Jun 2017",
          "Jul-Dec 2017",
          "Jan-Jun 2018",
          "Jul-Dec 2018",
          "Jan-Jun 2019",
          "Jul-Dec 2019",
          "Jan-Jun 2020",
          "Jul-Dec 2020",
          "Jan-Jun 2021",
          "Jan-Jun 2014",
          "Jul-Dec 2014",
          "Jan-Jun 2015",
          "Jul-Dec 2015",
          "Jan-Jun 2016",
          "Jul-Dec 2016",
          "Jan-Jun 2017",
          "Jul-Dec 2017",
          "Jan-Jun 2018",
          "Jul-Dec 2018",
          "Jan-Jun 2019",
          "Jul-Dec 2019",
          "Jan-Jun 2020",
          "Jul-Dec 2020"
         ],
         "y": [
          1.5258552108194112,
          2.033908754623921,
          2.5960591133004924,
          2.781518892630004,
          3.178174603174603,
          2.4383680555555554,
          2.1762198010421603,
          4.642816581487791,
          4.135365307037203,
          1.845602294455067,
          1.9575471698113207,
          3.949801849405548,
          2.906095071449402,
          9.583718778908418,
          1.533532041728763,
          1.5224183830741207,
          1.512146555157308,
          1.561788406550559,
          1.6328917581956905,
          1.5949873145229492,
          1.5979948648979092,
          1.6378046545721092,
          1.6608110017425706,
          1.5391426359589704,
          1.625135492008435,
          1.6103166995950784,
          1.7246456897672604,
          1.6694035454278346,
          1.7455582261181017,
          1.7207113804928622,
          2.6637236353444047,
          2.5406356280051603,
          2.22069980749632,
          2.181217791564517,
          2.037630805711635,
          2.0607669616519173,
          2.2119435396308362,
          2.8403860430586487,
          2.6986852281515854,
          2.4191278237819325,
          2.2451870772432714,
          2.281583339380306,
          2.3223417709918066
         ]
        }
       ],
       "layout": {
        "font": {
         "color": "#636efa",
         "family": "SansSerif",
         "size": 16
        },
        "paper_bgcolor": "rgba(0,0,0,0)",
        "plot_bgcolor": "rgba(0,0,0,0)",
        "template": {
         "data": {
          "bar": [
           {
            "error_x": {
             "color": "#2a3f5f"
            },
            "error_y": {
             "color": "#2a3f5f"
            },
            "marker": {
             "line": {
              "color": "#E5ECF6",
              "width": 0.5
             },
             "pattern": {
              "fillmode": "overlay",
              "size": 10,
              "solidity": 0.2
             }
            },
            "type": "bar"
           }
          ],
          "barpolar": [
           {
            "marker": {
             "line": {
              "color": "#E5ECF6",
              "width": 0.5
             },
             "pattern": {
              "fillmode": "overlay",
              "size": 10,
              "solidity": 0.2
             }
            },
            "type": "barpolar"
           }
          ],
          "carpet": [
           {
            "aaxis": {
             "endlinecolor": "#2a3f5f",
             "gridcolor": "white",
             "linecolor": "white",
             "minorgridcolor": "white",
             "startlinecolor": "#2a3f5f"
            },
            "baxis": {
             "endlinecolor": "#2a3f5f",
             "gridcolor": "white",
             "linecolor": "white",
             "minorgridcolor": "white",
             "startlinecolor": "#2a3f5f"
            },
            "type": "carpet"
           }
          ],
          "choropleth": [
           {
            "colorbar": {
             "outlinewidth": 0,
             "ticks": ""
            },
            "type": "choropleth"
           }
          ],
          "contour": [
           {
            "colorbar": {
             "outlinewidth": 0,
             "ticks": ""
            },
            "colorscale": [
             [
              0,
              "#0d0887"
             ],
             [
              0.1111111111111111,
              "#46039f"
             ],
             [
              0.2222222222222222,
              "#7201a8"
             ],
             [
              0.3333333333333333,
              "#9c179e"
             ],
             [
              0.4444444444444444,
              "#bd3786"
             ],
             [
              0.5555555555555556,
              "#d8576b"
             ],
             [
              0.6666666666666666,
              "#ed7953"
             ],
             [
              0.7777777777777778,
              "#fb9f3a"
             ],
             [
              0.8888888888888888,
              "#fdca26"
             ],
             [
              1,
              "#f0f921"
             ]
            ],
            "type": "contour"
           }
          ],
          "contourcarpet": [
           {
            "colorbar": {
             "outlinewidth": 0,
             "ticks": ""
            },
            "type": "contourcarpet"
           }
          ],
          "heatmap": [
           {
            "colorbar": {
             "outlinewidth": 0,
             "ticks": ""
            },
            "colorscale": [
             [
              0,
              "#0d0887"
             ],
             [
              0.1111111111111111,
              "#46039f"
             ],
             [
              0.2222222222222222,
              "#7201a8"
             ],
             [
              0.3333333333333333,
              "#9c179e"
             ],
             [
              0.4444444444444444,
              "#bd3786"
             ],
             [
              0.5555555555555556,
              "#d8576b"
             ],
             [
              0.6666666666666666,
              "#ed7953"
             ],
             [
              0.7777777777777778,
              "#fb9f3a"
             ],
             [
              0.8888888888888888,
              "#fdca26"
             ],
             [
              1,
              "#f0f921"
             ]
            ],
            "type": "heatmap"
           }
          ],
          "heatmapgl": [
           {
            "colorbar": {
             "outlinewidth": 0,
             "ticks": ""
            },
            "colorscale": [
             [
              0,
              "#0d0887"
             ],
             [
              0.1111111111111111,
              "#46039f"
             ],
             [
              0.2222222222222222,
              "#7201a8"
             ],
             [
              0.3333333333333333,
              "#9c179e"
             ],
             [
              0.4444444444444444,
              "#bd3786"
             ],
             [
              0.5555555555555556,
              "#d8576b"
             ],
             [
              0.6666666666666666,
              "#ed7953"
             ],
             [
              0.7777777777777778,
              "#fb9f3a"
             ],
             [
              0.8888888888888888,
              "#fdca26"
             ],
             [
              1,
              "#f0f921"
             ]
            ],
            "type": "heatmapgl"
           }
          ],
          "histogram": [
           {
            "marker": {
             "pattern": {
              "fillmode": "overlay",
              "size": 10,
              "solidity": 0.2
             }
            },
            "type": "histogram"
           }
          ],
          "histogram2d": [
           {
            "colorbar": {
             "outlinewidth": 0,
             "ticks": ""
            },
            "colorscale": [
             [
              0,
              "#0d0887"
             ],
             [
              0.1111111111111111,
              "#46039f"
             ],
             [
              0.2222222222222222,
              "#7201a8"
             ],
             [
              0.3333333333333333,
              "#9c179e"
             ],
             [
              0.4444444444444444,
              "#bd3786"
             ],
             [
              0.5555555555555556,
              "#d8576b"
             ],
             [
              0.6666666666666666,
              "#ed7953"
             ],
             [
              0.7777777777777778,
              "#fb9f3a"
             ],
             [
              0.8888888888888888,
              "#fdca26"
             ],
             [
              1,
              "#f0f921"
             ]
            ],
            "type": "histogram2d"
           }
          ],
          "histogram2dcontour": [
           {
            "colorbar": {
             "outlinewidth": 0,
             "ticks": ""
            },
            "colorscale": [
             [
              0,
              "#0d0887"
             ],
             [
              0.1111111111111111,
              "#46039f"
             ],
             [
              0.2222222222222222,
              "#7201a8"
             ],
             [
              0.3333333333333333,
              "#9c179e"
             ],
             [
              0.4444444444444444,
              "#bd3786"
             ],
             [
              0.5555555555555556,
              "#d8576b"
             ],
             [
              0.6666666666666666,
              "#ed7953"
             ],
             [
              0.7777777777777778,
              "#fb9f3a"
             ],
             [
              0.8888888888888888,
              "#fdca26"
             ],
             [
              1,
              "#f0f921"
             ]
            ],
            "type": "histogram2dcontour"
           }
          ],
          "mesh3d": [
           {
            "colorbar": {
             "outlinewidth": 0,
             "ticks": ""
            },
            "type": "mesh3d"
           }
          ],
          "parcoords": [
           {
            "line": {
             "colorbar": {
              "outlinewidth": 0,
              "ticks": ""
             }
            },
            "type": "parcoords"
           }
          ],
          "pie": [
           {
            "automargin": true,
            "type": "pie"
           }
          ],
          "scatter": [
           {
            "marker": {
             "colorbar": {
              "outlinewidth": 0,
              "ticks": ""
             }
            },
            "type": "scatter"
           }
          ],
          "scatter3d": [
           {
            "line": {
             "colorbar": {
              "outlinewidth": 0,
              "ticks": ""
             }
            },
            "marker": {
             "colorbar": {
              "outlinewidth": 0,
              "ticks": ""
             }
            },
            "type": "scatter3d"
           }
          ],
          "scattercarpet": [
           {
            "marker": {
             "colorbar": {
              "outlinewidth": 0,
              "ticks": ""
             }
            },
            "type": "scattercarpet"
           }
          ],
          "scattergeo": [
           {
            "marker": {
             "colorbar": {
              "outlinewidth": 0,
              "ticks": ""
             }
            },
            "type": "scattergeo"
           }
          ],
          "scattergl": [
           {
            "marker": {
             "colorbar": {
              "outlinewidth": 0,
              "ticks": ""
             }
            },
            "type": "scattergl"
           }
          ],
          "scattermapbox": [
           {
            "marker": {
             "colorbar": {
              "outlinewidth": 0,
              "ticks": ""
             }
            },
            "type": "scattermapbox"
           }
          ],
          "scatterpolar": [
           {
            "marker": {
             "colorbar": {
              "outlinewidth": 0,
              "ticks": ""
             }
            },
            "type": "scatterpolar"
           }
          ],
          "scatterpolargl": [
           {
            "marker": {
             "colorbar": {
              "outlinewidth": 0,
              "ticks": ""
             }
            },
            "type": "scatterpolargl"
           }
          ],
          "scatterternary": [
           {
            "marker": {
             "colorbar": {
              "outlinewidth": 0,
              "ticks": ""
             }
            },
            "type": "scatterternary"
           }
          ],
          "surface": [
           {
            "colorbar": {
             "outlinewidth": 0,
             "ticks": ""
            },
            "colorscale": [
             [
              0,
              "#0d0887"
             ],
             [
              0.1111111111111111,
              "#46039f"
             ],
             [
              0.2222222222222222,
              "#7201a8"
             ],
             [
              0.3333333333333333,
              "#9c179e"
             ],
             [
              0.4444444444444444,
              "#bd3786"
             ],
             [
              0.5555555555555556,
              "#d8576b"
             ],
             [
              0.6666666666666666,
              "#ed7953"
             ],
             [
              0.7777777777777778,
              "#fb9f3a"
             ],
             [
              0.8888888888888888,
              "#fdca26"
             ],
             [
              1,
              "#f0f921"
             ]
            ],
            "type": "surface"
           }
          ],
          "table": [
           {
            "cells": {
             "fill": {
              "color": "#EBF0F8"
             },
             "line": {
              "color": "white"
             }
            },
            "header": {
             "fill": {
              "color": "#C8D4E3"
             },
             "line": {
              "color": "white"
             }
            },
            "type": "table"
           }
          ]
         },
         "layout": {
          "annotationdefaults": {
           "arrowcolor": "#2a3f5f",
           "arrowhead": 0,
           "arrowwidth": 1
          },
          "autotypenumbers": "strict",
          "coloraxis": {
           "colorbar": {
            "outlinewidth": 0,
            "ticks": ""
           }
          },
          "colorscale": {
           "diverging": [
            [
             0,
             "#8e0152"
            ],
            [
             0.1,
             "#c51b7d"
            ],
            [
             0.2,
             "#de77ae"
            ],
            [
             0.3,
             "#f1b6da"
            ],
            [
             0.4,
             "#fde0ef"
            ],
            [
             0.5,
             "#f7f7f7"
            ],
            [
             0.6,
             "#e6f5d0"
            ],
            [
             0.7,
             "#b8e186"
            ],
            [
             0.8,
             "#7fbc41"
            ],
            [
             0.9,
             "#4d9221"
            ],
            [
             1,
             "#276419"
            ]
           ],
           "sequential": [
            [
             0,
             "#0d0887"
            ],
            [
             0.1111111111111111,
             "#46039f"
            ],
            [
             0.2222222222222222,
             "#7201a8"
            ],
            [
             0.3333333333333333,
             "#9c179e"
            ],
            [
             0.4444444444444444,
             "#bd3786"
            ],
            [
             0.5555555555555556,
             "#d8576b"
            ],
            [
             0.6666666666666666,
             "#ed7953"
            ],
            [
             0.7777777777777778,
             "#fb9f3a"
            ],
            [
             0.8888888888888888,
             "#fdca26"
            ],
            [
             1,
             "#f0f921"
            ]
           ],
           "sequentialminus": [
            [
             0,
             "#0d0887"
            ],
            [
             0.1111111111111111,
             "#46039f"
            ],
            [
             0.2222222222222222,
             "#7201a8"
            ],
            [
             0.3333333333333333,
             "#9c179e"
            ],
            [
             0.4444444444444444,
             "#bd3786"
            ],
            [
             0.5555555555555556,
             "#d8576b"
            ],
            [
             0.6666666666666666,
             "#ed7953"
            ],
            [
             0.7777777777777778,
             "#fb9f3a"
            ],
            [
             0.8888888888888888,
             "#fdca26"
            ],
            [
             1,
             "#f0f921"
            ]
           ]
          },
          "colorway": [
           "#636efa",
           "#EF553B",
           "#00cc96",
           "#ab63fa",
           "#FFA15A",
           "#19d3f3",
           "#FF6692",
           "#B6E880",
           "#FF97FF",
           "#FECB52"
          ],
          "font": {
           "color": "#2a3f5f"
          },
          "geo": {
           "bgcolor": "white",
           "lakecolor": "white",
           "landcolor": "#E5ECF6",
           "showlakes": true,
           "showland": true,
           "subunitcolor": "white"
          },
          "hoverlabel": {
           "align": "left"
          },
          "hovermode": "closest",
          "mapbox": {
           "style": "light"
          },
          "paper_bgcolor": "white",
          "plot_bgcolor": "#E5ECF6",
          "polar": {
           "angularaxis": {
            "gridcolor": "white",
            "linecolor": "white",
            "ticks": ""
           },
           "bgcolor": "#E5ECF6",
           "radialaxis": {
            "gridcolor": "white",
            "linecolor": "white",
            "ticks": ""
           }
          },
          "scene": {
           "xaxis": {
            "backgroundcolor": "#E5ECF6",
            "gridcolor": "white",
            "gridwidth": 2,
            "linecolor": "white",
            "showbackground": true,
            "ticks": "",
            "zerolinecolor": "white"
           },
           "yaxis": {
            "backgroundcolor": "#E5ECF6",
            "gridcolor": "white",
            "gridwidth": 2,
            "linecolor": "white",
            "showbackground": true,
            "ticks": "",
            "zerolinecolor": "white"
           },
           "zaxis": {
            "backgroundcolor": "#E5ECF6",
            "gridcolor": "white",
            "gridwidth": 2,
            "linecolor": "white",
            "showbackground": true,
            "ticks": "",
            "zerolinecolor": "white"
           }
          },
          "shapedefaults": {
           "line": {
            "color": "#2a3f5f"
           }
          },
          "ternary": {
           "aaxis": {
            "gridcolor": "white",
            "linecolor": "white",
            "ticks": ""
           },
           "baxis": {
            "gridcolor": "white",
            "linecolor": "white",
            "ticks": ""
           },
           "bgcolor": "#E5ECF6",
           "caxis": {
            "gridcolor": "white",
            "linecolor": "white",
            "ticks": ""
           }
          },
          "title": {
           "x": 0.05
          },
          "xaxis": {
           "automargin": true,
           "gridcolor": "white",
           "linecolor": "white",
           "ticks": "",
           "title": {
            "standoff": 15
           },
           "zerolinecolor": "white",
           "zerolinewidth": 2
          },
          "yaxis": {
           "automargin": true,
           "gridcolor": "white",
           "linecolor": "white",
           "ticks": "",
           "title": {
            "standoff": 15
           },
           "zerolinecolor": "white",
           "zerolinewidth": 2
          }
         }
        },
        "title": {
         "font": {
          "size": 24
         },
         "text": "Average Number of Accounts Surveilled per Government Request"
        },
        "xaxis": {
         "color": "#636efa",
         "showgrid": false,
         "showline": false,
         "showticklabels": true,
         "title": {
          "text": "Time Period"
         },
         "zeroline": false
        },
        "yaxis": {
         "color": "#636efa",
         "showgrid": false,
         "showline": false,
         "showticklabels": true,
         "title": {
          "text": "Accounts Surveilled / Requests"
         },
         "zeroline": false
        }
       }
      },
      "text/html": [
       "<div>                            <div id=\"6f4e6178-a35a-4b8f-a9e4-8e8b8337c5ca\" class=\"plotly-graph-div\" style=\"height:525px; width:100%;\"></div>            <script type=\"text/javascript\">                require([\"plotly\"], function(Plotly) {                    window.PLOTLYENV=window.PLOTLYENV || {};                                    if (document.getElementById(\"6f4e6178-a35a-4b8f-a9e4-8e8b8337c5ca\")) {                    Plotly.newPlot(                        \"6f4e6178-a35a-4b8f-a9e4-8e8b8337c5ca\",                        [{\"hovertext\":[\"Site: Twitter<br>Requests: 1257<br>Accounts: 1918\",\"Site: Twitter<br>Requests: 1622<br>Accounts: 3299\",\"Site: Twitter<br>Requests: 2436<br>Accounts: 6324\",\"Site: Twitter<br>Requests: 2673<br>Accounts: 7435\",\"Site: Twitter<br>Requests: 2520<br>Accounts: 8009\",\"Site: Twitter<br>Requests: 2304<br>Accounts: 5618\",\"Site: Twitter<br>Requests: 2111<br>Accounts: 4594\",\"Site: Twitter<br>Requests: 1761<br>Accounts: 8176\",\"Site: Twitter<br>Requests: 2231<br>Accounts: 9226\",\"Site: Twitter<br>Requests: 2092<br>Accounts: 3861\",\"Site: Twitter<br>Requests: 2120<br>Accounts: 4150\",\"Site: Twitter<br>Requests: 2271<br>Accounts: 8970\",\"Site: Twitter<br>Requests: 3429<br>Accounts: 9965\",\"Site: Twitter<br>Requests: 3243<br>Accounts: 31080\",\"Site: Facebook<br>Requests: 15433<br>Accounts: 23667\",\"Site: Facebook<br>Requests: 14274<br>Accounts: 21731\",\"Site: Facebook<br>Requests: 17577<br>Accounts: 26579\",\"Site: Facebook<br>Requests: 19235<br>Accounts: 30041\",\"Site: Facebook<br>Requests: 23854<br>Accounts: 38951\",\"Site: Facebook<br>Requests: 26014<br>Accounts: 41492\",\"Site: Facebook<br>Requests: 32716<br>Accounts: 52280\",\"Site: Facebook<br>Requests: 32742<br>Accounts: 53625\",\"Site: Facebook<br>Requests: 42466<br>Accounts: 70528\",\"Site: Facebook<br>Requests: 41336<br>Accounts: 63622\",\"Site: Facebook<br>Requests: 50741<br>Accounts: 82461\",\"Site: Facebook<br>Requests: 51121<br>Accounts: 82321\",\"Site: Facebook<br>Requests: 61528<br>Accounts: 106114\",\"Site: Facebook<br>Requests: 61262<br>Accounts: 102271\",\"Site: Facebook<br>Requests: 63657<br>Accounts: 111117\",\"Site: Google<br>Requests: 12539<br>Accounts: 21576\",\"Site: Google<br>Requests: 14271<br>Accounts: 38014\",\"Site: Google<br>Requests: 17054<br>Accounts: 43328\",\"Site: Google<br>Requests: 17662<br>Accounts: 39222\",\"Site: Google<br>Requests: 19987<br>Accounts: 43596\",\"Site: Google<br>Requests: 19399<br>Accounts: 39528\",\"Site: Google<br>Requests: 23730<br>Accounts: 48902\",\"Site: Google<br>Requests: 23025<br>Accounts: 50930\",\"Site: Google<br>Requests: 29634<br>Accounts: 84172\",\"Site: Google<br>Requests: 32325<br>Accounts: 87235\",\"Site: Google<br>Requests: 42629<br>Accounts: 103125\",\"Site: Google<br>Requests: 42282<br>Accounts: 94931\",\"Site: Google<br>Requests: 55124<br>Accounts: 125770\",\"Site: Google<br>Requests: 54557<br>Accounts: 126700\"],\"marker\":{\"color\":[\"#1d9bf0\",\"#1d9bf0\",\"#1d9bf0\",\"#1d9bf0\",\"#1d9bf0\",\"#1d9bf0\",\"#1d9bf0\",\"#1d9bf0\",\"#1d9bf0\",\"#1d9bf0\",\"#1d9bf0\",\"#1d9bf0\",\"#1d9bf0\",\"#1d9bf0\",\"#2374e1\",\"#2374e1\",\"#2374e1\",\"#2374e1\",\"#2374e1\",\"#2374e1\",\"#2374e1\",\"#2374e1\",\"#2374e1\",\"#2374e1\",\"#2374e1\",\"#2374e1\",\"#2374e1\",\"#2374e1\",\"#2374e1\",\"#ce3c30\",\"#ce3c30\",\"#ce3c30\",\"#ce3c30\",\"#ce3c30\",\"#ce3c30\",\"#ce3c30\",\"#ce3c30\",\"#ce3c30\",\"#ce3c30\",\"#ce3c30\",\"#ce3c30\",\"#ce3c30\",\"#ce3c30\"],\"line\":{\"color\":\"black\",\"width\":2},\"size\":14},\"mode\":\"markers\",\"x\":[\"Jan-Jun 2014\",\"Jul-Dec 2014\",\"Jan-Jun 2015\",\"Jul-Dec 2015\",\"Jan-Jun 2016\",\"Jul-Dec 2016\",\"Jan-Jun 2017\",\"Jul-Dec 2017\",\"Jan-Jun 2018\",\"Jul-Dec 2018\",\"Jan-Jun 2019\",\"Jul-Dec 2019\",\"Jan-Jun 2020\",\"Jul-Dec 2020\",\"Jan-Jun 2014\",\"Jul-Dec 2014\",\"Jan-Jun 2015\",\"Jul-Dec 2015\",\"Jan-Jun 2016\",\"Jul-Dec 2016\",\"Jan-Jun 2017\",\"Jul-Dec 2017\",\"Jan-Jun 2018\",\"Jul-Dec 2018\",\"Jan-Jun 2019\",\"Jul-Dec 2019\",\"Jan-Jun 2020\",\"Jul-Dec 2020\",\"Jan-Jun 2021\",\"Jan-Jun 2014\",\"Jul-Dec 2014\",\"Jan-Jun 2015\",\"Jul-Dec 2015\",\"Jan-Jun 2016\",\"Jul-Dec 2016\",\"Jan-Jun 2017\",\"Jul-Dec 2017\",\"Jan-Jun 2018\",\"Jul-Dec 2018\",\"Jan-Jun 2019\",\"Jul-Dec 2019\",\"Jan-Jun 2020\",\"Jul-Dec 2020\"],\"y\":[1.5258552108194112,2.033908754623921,2.5960591133004924,2.781518892630004,3.178174603174603,2.4383680555555554,2.1762198010421603,4.642816581487791,4.135365307037203,1.845602294455067,1.9575471698113207,3.949801849405548,2.906095071449402,9.583718778908418,1.533532041728763,1.5224183830741207,1.512146555157308,1.561788406550559,1.6328917581956905,1.5949873145229492,1.5979948648979092,1.6378046545721092,1.6608110017425706,1.5391426359589704,1.625135492008435,1.6103166995950784,1.7246456897672604,1.6694035454278346,1.7455582261181017,1.7207113804928622,2.6637236353444047,2.5406356280051603,2.22069980749632,2.181217791564517,2.037630805711635,2.0607669616519173,2.2119435396308362,2.8403860430586487,2.6986852281515854,2.4191278237819325,2.2451870772432714,2.281583339380306,2.3223417709918066],\"type\":\"scatter\"}],                        {\"template\":{\"data\":{\"bar\":[{\"error_x\":{\"color\":\"#2a3f5f\"},\"error_y\":{\"color\":\"#2a3f5f\"},\"marker\":{\"line\":{\"color\":\"#E5ECF6\",\"width\":0.5},\"pattern\":{\"fillmode\":\"overlay\",\"size\":10,\"solidity\":0.2}},\"type\":\"bar\"}],\"barpolar\":[{\"marker\":{\"line\":{\"color\":\"#E5ECF6\",\"width\":0.5},\"pattern\":{\"fillmode\":\"overlay\",\"size\":10,\"solidity\":0.2}},\"type\":\"barpolar\"}],\"carpet\":[{\"aaxis\":{\"endlinecolor\":\"#2a3f5f\",\"gridcolor\":\"white\",\"linecolor\":\"white\",\"minorgridcolor\":\"white\",\"startlinecolor\":\"#2a3f5f\"},\"baxis\":{\"endlinecolor\":\"#2a3f5f\",\"gridcolor\":\"white\",\"linecolor\":\"white\",\"minorgridcolor\":\"white\",\"startlinecolor\":\"#2a3f5f\"},\"type\":\"carpet\"}],\"choropleth\":[{\"colorbar\":{\"outlinewidth\":0,\"ticks\":\"\"},\"type\":\"choropleth\"}],\"contour\":[{\"colorbar\":{\"outlinewidth\":0,\"ticks\":\"\"},\"colorscale\":[[0.0,\"#0d0887\"],[0.1111111111111111,\"#46039f\"],[0.2222222222222222,\"#7201a8\"],[0.3333333333333333,\"#9c179e\"],[0.4444444444444444,\"#bd3786\"],[0.5555555555555556,\"#d8576b\"],[0.6666666666666666,\"#ed7953\"],[0.7777777777777778,\"#fb9f3a\"],[0.8888888888888888,\"#fdca26\"],[1.0,\"#f0f921\"]],\"type\":\"contour\"}],\"contourcarpet\":[{\"colorbar\":{\"outlinewidth\":0,\"ticks\":\"\"},\"type\":\"contourcarpet\"}],\"heatmap\":[{\"colorbar\":{\"outlinewidth\":0,\"ticks\":\"\"},\"colorscale\":[[0.0,\"#0d0887\"],[0.1111111111111111,\"#46039f\"],[0.2222222222222222,\"#7201a8\"],[0.3333333333333333,\"#9c179e\"],[0.4444444444444444,\"#bd3786\"],[0.5555555555555556,\"#d8576b\"],[0.6666666666666666,\"#ed7953\"],[0.7777777777777778,\"#fb9f3a\"],[0.8888888888888888,\"#fdca26\"],[1.0,\"#f0f921\"]],\"type\":\"heatmap\"}],\"heatmapgl\":[{\"colorbar\":{\"outlinewidth\":0,\"ticks\":\"\"},\"colorscale\":[[0.0,\"#0d0887\"],[0.1111111111111111,\"#46039f\"],[0.2222222222222222,\"#7201a8\"],[0.3333333333333333,\"#9c179e\"],[0.4444444444444444,\"#bd3786\"],[0.5555555555555556,\"#d8576b\"],[0.6666666666666666,\"#ed7953\"],[0.7777777777777778,\"#fb9f3a\"],[0.8888888888888888,\"#fdca26\"],[1.0,\"#f0f921\"]],\"type\":\"heatmapgl\"}],\"histogram\":[{\"marker\":{\"pattern\":{\"fillmode\":\"overlay\",\"size\":10,\"solidity\":0.2}},\"type\":\"histogram\"}],\"histogram2d\":[{\"colorbar\":{\"outlinewidth\":0,\"ticks\":\"\"},\"colorscale\":[[0.0,\"#0d0887\"],[0.1111111111111111,\"#46039f\"],[0.2222222222222222,\"#7201a8\"],[0.3333333333333333,\"#9c179e\"],[0.4444444444444444,\"#bd3786\"],[0.5555555555555556,\"#d8576b\"],[0.6666666666666666,\"#ed7953\"],[0.7777777777777778,\"#fb9f3a\"],[0.8888888888888888,\"#fdca26\"],[1.0,\"#f0f921\"]],\"type\":\"histogram2d\"}],\"histogram2dcontour\":[{\"colorbar\":{\"outlinewidth\":0,\"ticks\":\"\"},\"colorscale\":[[0.0,\"#0d0887\"],[0.1111111111111111,\"#46039f\"],[0.2222222222222222,\"#7201a8\"],[0.3333333333333333,\"#9c179e\"],[0.4444444444444444,\"#bd3786\"],[0.5555555555555556,\"#d8576b\"],[0.6666666666666666,\"#ed7953\"],[0.7777777777777778,\"#fb9f3a\"],[0.8888888888888888,\"#fdca26\"],[1.0,\"#f0f921\"]],\"type\":\"histogram2dcontour\"}],\"mesh3d\":[{\"colorbar\":{\"outlinewidth\":0,\"ticks\":\"\"},\"type\":\"mesh3d\"}],\"parcoords\":[{\"line\":{\"colorbar\":{\"outlinewidth\":0,\"ticks\":\"\"}},\"type\":\"parcoords\"}],\"pie\":[{\"automargin\":true,\"type\":\"pie\"}],\"scatter\":[{\"marker\":{\"colorbar\":{\"outlinewidth\":0,\"ticks\":\"\"}},\"type\":\"scatter\"}],\"scatter3d\":[{\"line\":{\"colorbar\":{\"outlinewidth\":0,\"ticks\":\"\"}},\"marker\":{\"colorbar\":{\"outlinewidth\":0,\"ticks\":\"\"}},\"type\":\"scatter3d\"}],\"scattercarpet\":[{\"marker\":{\"colorbar\":{\"outlinewidth\":0,\"ticks\":\"\"}},\"type\":\"scattercarpet\"}],\"scattergeo\":[{\"marker\":{\"colorbar\":{\"outlinewidth\":0,\"ticks\":\"\"}},\"type\":\"scattergeo\"}],\"scattergl\":[{\"marker\":{\"colorbar\":{\"outlinewidth\":0,\"ticks\":\"\"}},\"type\":\"scattergl\"}],\"scattermapbox\":[{\"marker\":{\"colorbar\":{\"outlinewidth\":0,\"ticks\":\"\"}},\"type\":\"scattermapbox\"}],\"scatterpolar\":[{\"marker\":{\"colorbar\":{\"outlinewidth\":0,\"ticks\":\"\"}},\"type\":\"scatterpolar\"}],\"scatterpolargl\":[{\"marker\":{\"colorbar\":{\"outlinewidth\":0,\"ticks\":\"\"}},\"type\":\"scatterpolargl\"}],\"scatterternary\":[{\"marker\":{\"colorbar\":{\"outlinewidth\":0,\"ticks\":\"\"}},\"type\":\"scatterternary\"}],\"surface\":[{\"colorbar\":{\"outlinewidth\":0,\"ticks\":\"\"},\"colorscale\":[[0.0,\"#0d0887\"],[0.1111111111111111,\"#46039f\"],[0.2222222222222222,\"#7201a8\"],[0.3333333333333333,\"#9c179e\"],[0.4444444444444444,\"#bd3786\"],[0.5555555555555556,\"#d8576b\"],[0.6666666666666666,\"#ed7953\"],[0.7777777777777778,\"#fb9f3a\"],[0.8888888888888888,\"#fdca26\"],[1.0,\"#f0f921\"]],\"type\":\"surface\"}],\"table\":[{\"cells\":{\"fill\":{\"color\":\"#EBF0F8\"},\"line\":{\"color\":\"white\"}},\"header\":{\"fill\":{\"color\":\"#C8D4E3\"},\"line\":{\"color\":\"white\"}},\"type\":\"table\"}]},\"layout\":{\"annotationdefaults\":{\"arrowcolor\":\"#2a3f5f\",\"arrowhead\":0,\"arrowwidth\":1},\"autotypenumbers\":\"strict\",\"coloraxis\":{\"colorbar\":{\"outlinewidth\":0,\"ticks\":\"\"}},\"colorscale\":{\"diverging\":[[0,\"#8e0152\"],[0.1,\"#c51b7d\"],[0.2,\"#de77ae\"],[0.3,\"#f1b6da\"],[0.4,\"#fde0ef\"],[0.5,\"#f7f7f7\"],[0.6,\"#e6f5d0\"],[0.7,\"#b8e186\"],[0.8,\"#7fbc41\"],[0.9,\"#4d9221\"],[1,\"#276419\"]],\"sequential\":[[0.0,\"#0d0887\"],[0.1111111111111111,\"#46039f\"],[0.2222222222222222,\"#7201a8\"],[0.3333333333333333,\"#9c179e\"],[0.4444444444444444,\"#bd3786\"],[0.5555555555555556,\"#d8576b\"],[0.6666666666666666,\"#ed7953\"],[0.7777777777777778,\"#fb9f3a\"],[0.8888888888888888,\"#fdca26\"],[1.0,\"#f0f921\"]],\"sequentialminus\":[[0.0,\"#0d0887\"],[0.1111111111111111,\"#46039f\"],[0.2222222222222222,\"#7201a8\"],[0.3333333333333333,\"#9c179e\"],[0.4444444444444444,\"#bd3786\"],[0.5555555555555556,\"#d8576b\"],[0.6666666666666666,\"#ed7953\"],[0.7777777777777778,\"#fb9f3a\"],[0.8888888888888888,\"#fdca26\"],[1.0,\"#f0f921\"]]},\"colorway\":[\"#636efa\",\"#EF553B\",\"#00cc96\",\"#ab63fa\",\"#FFA15A\",\"#19d3f3\",\"#FF6692\",\"#B6E880\",\"#FF97FF\",\"#FECB52\"],\"font\":{\"color\":\"#2a3f5f\"},\"geo\":{\"bgcolor\":\"white\",\"lakecolor\":\"white\",\"landcolor\":\"#E5ECF6\",\"showlakes\":true,\"showland\":true,\"subunitcolor\":\"white\"},\"hoverlabel\":{\"align\":\"left\"},\"hovermode\":\"closest\",\"mapbox\":{\"style\":\"light\"},\"paper_bgcolor\":\"white\",\"plot_bgcolor\":\"#E5ECF6\",\"polar\":{\"angularaxis\":{\"gridcolor\":\"white\",\"linecolor\":\"white\",\"ticks\":\"\"},\"bgcolor\":\"#E5ECF6\",\"radialaxis\":{\"gridcolor\":\"white\",\"linecolor\":\"white\",\"ticks\":\"\"}},\"scene\":{\"xaxis\":{\"backgroundcolor\":\"#E5ECF6\",\"gridcolor\":\"white\",\"gridwidth\":2,\"linecolor\":\"white\",\"showbackground\":true,\"ticks\":\"\",\"zerolinecolor\":\"white\"},\"yaxis\":{\"backgroundcolor\":\"#E5ECF6\",\"gridcolor\":\"white\",\"gridwidth\":2,\"linecolor\":\"white\",\"showbackground\":true,\"ticks\":\"\",\"zerolinecolor\":\"white\"},\"zaxis\":{\"backgroundcolor\":\"#E5ECF6\",\"gridcolor\":\"white\",\"gridwidth\":2,\"linecolor\":\"white\",\"showbackground\":true,\"ticks\":\"\",\"zerolinecolor\":\"white\"}},\"shapedefaults\":{\"line\":{\"color\":\"#2a3f5f\"}},\"ternary\":{\"aaxis\":{\"gridcolor\":\"white\",\"linecolor\":\"white\",\"ticks\":\"\"},\"baxis\":{\"gridcolor\":\"white\",\"linecolor\":\"white\",\"ticks\":\"\"},\"bgcolor\":\"#E5ECF6\",\"caxis\":{\"gridcolor\":\"white\",\"linecolor\":\"white\",\"ticks\":\"\"}},\"title\":{\"x\":0.05},\"xaxis\":{\"automargin\":true,\"gridcolor\":\"white\",\"linecolor\":\"white\",\"ticks\":\"\",\"title\":{\"standoff\":15},\"zerolinecolor\":\"white\",\"zerolinewidth\":2},\"yaxis\":{\"automargin\":true,\"gridcolor\":\"white\",\"linecolor\":\"white\",\"ticks\":\"\",\"title\":{\"standoff\":15},\"zerolinecolor\":\"white\",\"zerolinewidth\":2}}},\"title\":{\"text\":\"Average Number of Accounts Surveilled per Government Request\",\"font\":{\"size\":24}},\"font\":{\"family\":\"SansSerif\",\"color\":\"#636efa\",\"size\":16},\"yaxis\":{\"title\":{\"text\":\"Accounts Surveilled / Requests\"},\"showgrid\":false,\"zeroline\":false,\"showline\":false,\"showticklabels\":true,\"color\":\"#636efa\"},\"xaxis\":{\"title\":{\"text\":\"Time Period\"},\"showgrid\":false,\"zeroline\":false,\"showline\":false,\"color\":\"#636efa\",\"showticklabels\":true},\"plot_bgcolor\":\"rgba(0,0,0,0)\",\"paper_bgcolor\":\"rgba(0,0,0,0)\"},                        {\"responsive\": true}                    ).then(function(){\n",
       "                            \n",
       "var gd = document.getElementById('6f4e6178-a35a-4b8f-a9e4-8e8b8337c5ca');\n",
       "var x = new MutationObserver(function (mutations, observer) {{\n",
       "        var display = window.getComputedStyle(gd).display;\n",
       "        if (!display || display === 'none') {{\n",
       "            console.log([gd, 'removed!']);\n",
       "            Plotly.purge(gd);\n",
       "            observer.disconnect();\n",
       "        }}\n",
       "}});\n",
       "\n",
       "// Listen for the removal of the full notebook cells\n",
       "var notebookContainer = gd.closest('#notebook-container');\n",
       "if (notebookContainer) {{\n",
       "    x.observe(notebookContainer, {childList: true});\n",
       "}}\n",
       "\n",
       "// Listen for the clearing of the current output cell\n",
       "var outputEl = gd.closest('.output');\n",
       "if (outputEl) {{\n",
       "    x.observe(outputEl, {childList: true});\n",
       "}}\n",
       "\n",
       "                        })                };                });            </script>        </div>"
      ]
     },
     "metadata": {},
     "output_type": "display_data"
    }
   ],
   "source": [
    "fig = go.Figure()\n",
    "fig.update_layout({\n",
    "    'plot_bgcolor': 'rgba(0,0,0,0)',\n",
    "    'paper_bgcolor': 'rgba(0,0,0,0)',\n",
    "    'title': \"Average Number of Accounts Surveilled per Government Request\",\n",
    "    'xaxis_title':\"Time Period\",\n",
    "    'yaxis_title':\"Accounts Surveilled / Requests\",\n",
    "    'titlefont': {\n",
    "        'size': 24\n",
    "    },\n",
    "    'font': {\n",
    "        'family': \"SansSerif\",\n",
    "        'color': \"#636efa\",\n",
    "        'size': 16\n",
    "    },\n",
    "    'yaxis': {\n",
    "        'showgrid': False,\n",
    "        'zeroline': False,\n",
    "        'showline': False,\n",
    "        'showticklabels': True,\n",
    "        'color': \"#636efa\"\n",
    "    },\n",
    "    'xaxis': {\n",
    "        'showgrid': False,\n",
    "        'zeroline': False,\n",
    "        'showline': False,\n",
    "        'color': \"#636efa\",\n",
    "        'showticklabels': True\n",
    "    }\n",
    "})\n",
    "\n",
    "fig.add_trace(\n",
    "    go.Scatter(\n",
    "        x=df.time,\n",
    "        y=df.accounts_per_request,\n",
    "        mode='markers',\n",
    "        marker=dict(\n",
    "            color=[\n",
    "                (\n",
    "                    \"#ce3c30\" if site == \"Google\" else (\n",
    "                        \"#1d9bf0\" if site == \"Twitter\" else \"#2374e1\"\n",
    "                    )\n",
    "                ) for site in df.site],\n",
    "            size=14,\n",
    "            line=dict(\n",
    "                color='black',\n",
    "                width=2\n",
    "            )\n",
    "        ),\n",
    "        hovertext=df.apply(\n",
    "            lambda r: (\n",
    "                \"Site: \" + r.site + \n",
    "                \"<br>Requests: \" + str(int(r.total_requests)) +\n",
    "                \"<br>Accounts: \" + str(int(r.total_requests_accounts))\n",
    "            ),\n",
    "            axis=1)\n",
    "    )\n",
    ")\n",
    "\n",
    "fig.show()"
   ]
  },
  {
   "cell_type": "code",
   "execution_count": 43,
   "id": "ad6cbdb5",
   "metadata": {},
   "outputs": [],
   "source": [
    "fig.write_html(\"Graphics/accounts_per_request.html\")"
   ]
  }
 ],
 "metadata": {
  "kernelspec": {
   "display_name": "Python 3",
   "language": "python",
   "name": "python3"
  },
  "language_info": {
   "codemirror_mode": {
    "name": "ipython",
    "version": 3
   },
   "file_extension": ".py",
   "mimetype": "text/x-python",
   "name": "python",
   "nbconvert_exporter": "python",
   "pygments_lexer": "ipython3",
   "version": "3.6.9"
  }
 },
 "nbformat": 4,
 "nbformat_minor": 5
}
