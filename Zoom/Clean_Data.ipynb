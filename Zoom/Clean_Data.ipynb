{
 "cells": [
  {
   "cell_type": "markdown",
   "id": "22e5a4f6",
   "metadata": {},
   "source": [
    "# Zoom Data\n",
    "\n",
    "Zoom started publishing transparency reports in 2021. They do not provide their data as a csv, so I will manually enter it. You can cross-reference my work by looking at their [transparecny report](https://explore.zoom.us/docs/en-us/trust/transparency.html)."
   ]
  },
  {
   "cell_type": "code",
   "execution_count": 2,
   "id": "f2bd3a7a",
   "metadata": {},
   "outputs": [],
   "source": [
    "import pandas as pd"
   ]
  },
  {
   "cell_type": "code",
   "execution_count": 3,
   "id": "3a2aff5b",
   "metadata": {},
   "outputs": [],
   "source": [
    "df = pd.DataFrame.from_dict({\n",
    "    \"half\": [1, 2],\n",
    "    \"year\": [2021, 2021],\n",
    "    \"warrants\": [80, 23],\n",
    "    \"subpoenas\": [109, 74],\n",
    "    \"emergency_requests\": [15, 2],\n",
    "    \"court_orders\": [5, 4],\n",
    "    \"source\": [\"https://explore.zoom.us/docs/en-us/trust/transparency.html\", \n",
    "               \"https://explore.zoom.us/docs/en-us/trust/transparency.html\"]\n",
    "})\n",
    "\n",
    "df.to_csv(\"../Clean_Data/Zoom.csv\")"
   ]
  },
  {
   "cell_type": "code",
   "execution_count": null,
   "id": "af18ee96",
   "metadata": {},
   "outputs": [],
   "source": []
  }
 ],
 "metadata": {
  "kernelspec": {
   "display_name": "Python 3",
   "language": "python",
   "name": "python3"
  },
  "language_info": {
   "codemirror_mode": {
    "name": "ipython",
    "version": 3
   },
   "file_extension": ".py",
   "mimetype": "text/x-python",
   "name": "python",
   "nbconvert_exporter": "python",
   "pygments_lexer": "ipython3",
   "version": "3.6.9"
  }
 },
 "nbformat": 4,
 "nbformat_minor": 5
}
