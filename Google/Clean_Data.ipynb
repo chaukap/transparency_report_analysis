{
 "cells": [
  {
   "cell_type": "code",
   "execution_count": 7,
   "id": "dad3b7ce",
   "metadata": {},
   "outputs": [],
   "source": [
    "import pandas as pd"
   ]
  },
  {
   "cell_type": "code",
   "execution_count": 8,
   "id": "fb23b0fb",
   "metadata": {},
   "outputs": [
    {
     "data": {
      "text/html": [
       "<div>\n",
       "<style scoped>\n",
       "    .dataframe tbody tr th:only-of-type {\n",
       "        vertical-align: middle;\n",
       "    }\n",
       "\n",
       "    .dataframe tbody tr th {\n",
       "        vertical-align: top;\n",
       "    }\n",
       "\n",
       "    .dataframe thead th {\n",
       "        text-align: right;\n",
       "    }\n",
       "</style>\n",
       "<table border=\"1\" class=\"dataframe\">\n",
       "  <thead>\n",
       "    <tr style=\"text-align: right;\">\n",
       "      <th></th>\n",
       "      <th>total_requests</th>\n",
       "      <th>Percentage disclosed</th>\n",
       "      <th>total_requests_accounts</th>\n",
       "      <th>country</th>\n",
       "      <th>half</th>\n",
       "      <th>year</th>\n",
       "    </tr>\n",
       "    <tr>\n",
       "      <th>period_ending</th>\n",
       "      <th></th>\n",
       "      <th></th>\n",
       "      <th></th>\n",
       "      <th></th>\n",
       "      <th></th>\n",
       "      <th></th>\n",
       "    </tr>\n",
       "  </thead>\n",
       "  <tbody>\n",
       "    <tr>\n",
       "      <th>2018-12-31</th>\n",
       "      <td>32325</td>\n",
       "      <td>512.0</td>\n",
       "      <td>87235.0</td>\n",
       "      <td>United States</td>\n",
       "      <td>2</td>\n",
       "      <td>2018</td>\n",
       "    </tr>\n",
       "    <tr>\n",
       "      <th>2019-06-30</th>\n",
       "      <td>42629</td>\n",
       "      <td>404.0</td>\n",
       "      <td>103125.0</td>\n",
       "      <td>United States</td>\n",
       "      <td>1</td>\n",
       "      <td>2019</td>\n",
       "    </tr>\n",
       "    <tr>\n",
       "      <th>2019-12-31</th>\n",
       "      <td>42282</td>\n",
       "      <td>407.0</td>\n",
       "      <td>94931.0</td>\n",
       "      <td>United States</td>\n",
       "      <td>2</td>\n",
       "      <td>2019</td>\n",
       "    </tr>\n",
       "    <tr>\n",
       "      <th>2020-06-30</th>\n",
       "      <td>55124</td>\n",
       "      <td>457.0</td>\n",
       "      <td>125770.0</td>\n",
       "      <td>United States</td>\n",
       "      <td>1</td>\n",
       "      <td>2020</td>\n",
       "    </tr>\n",
       "    <tr>\n",
       "      <th>2020-12-31</th>\n",
       "      <td>54557</td>\n",
       "      <td>506.0</td>\n",
       "      <td>126700.0</td>\n",
       "      <td>United States</td>\n",
       "      <td>2</td>\n",
       "      <td>2020</td>\n",
       "    </tr>\n",
       "  </tbody>\n",
       "</table>\n",
       "</div>"
      ],
      "text/plain": [
       "               total_requests  Percentage disclosed  total_requests_accounts  \\\n",
       "period_ending                                                                  \n",
       "2018-12-31              32325                 512.0                  87235.0   \n",
       "2019-06-30              42629                 404.0                 103125.0   \n",
       "2019-12-31              42282                 407.0                  94931.0   \n",
       "2020-06-30              55124                 457.0                 125770.0   \n",
       "2020-12-31              54557                 506.0                 126700.0   \n",
       "\n",
       "                     country  half  year  \n",
       "period_ending                             \n",
       "2018-12-31     United States     2  2018  \n",
       "2019-06-30     United States     1  2019  \n",
       "2019-12-31     United States     2  2019  \n",
       "2020-06-30     United States     1  2020  \n",
       "2020-12-31     United States     2  2020  "
      ]
     },
     "execution_count": 8,
     "metadata": {},
     "output_type": "execute_result"
    }
   ],
   "source": [
    "df = pd.read_csv(\"Raw_Data/google-global-user-data-requests.csv\")\n",
    "df.rename(columns = {\n",
    "    \"Period Ending\": \"period_ending\",\n",
    "    \"User Data Requests\": \"total_requests\",\n",
    "    \"Accounts\": \"total_requests_accounts\"\n",
    "}, inplace=True)\n",
    "df = df[df['Country/Region'] == \"United States\"].groupby(\"period_ending\").sum()\n",
    "df[\"country\"] = \"United States\"\n",
    "df['half'] = [1 if \"-06-\" in period else 2 for period in df.index]\n",
    "df['year'] = [y[0:4] for y in df.index]\n",
    "df.tail(5)"
   ]
  },
  {
   "cell_type": "code",
   "execution_count": 9,
   "id": "87d1d4c2",
   "metadata": {},
   "outputs": [],
   "source": [
    "df.to_csv(\"../Clean_Data/Google.csv\", index=False)"
   ]
  },
  {
   "cell_type": "code",
   "execution_count": null,
   "id": "ef75b2bb",
   "metadata": {},
   "outputs": [],
   "source": []
  }
 ],
 "metadata": {
  "kernelspec": {
   "display_name": "Python 3",
   "language": "python",
   "name": "python3"
  },
  "language_info": {
   "codemirror_mode": {
    "name": "ipython",
    "version": 3
   },
   "file_extension": ".py",
   "mimetype": "text/x-python",
   "name": "python",
   "nbconvert_exporter": "python",
   "pygments_lexer": "ipython3",
   "version": "3.6.9"
  }
 },
 "nbformat": 4,
 "nbformat_minor": 5
}
