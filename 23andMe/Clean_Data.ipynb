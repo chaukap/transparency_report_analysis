{
 "cells": [
  {
   "cell_type": "markdown",
   "id": "ebfa8d3b",
   "metadata": {},
   "source": [
    "# 23andMe data\n",
    "\n",
    "23andMe doesn't have a CSV download. They report the _cumulative_ number of requests. Therefore, I manually input the values from their [transparency report](https://www.23andme.com/transparency-report/)."
   ]
  },
  {
   "cell_type": "code",
   "execution_count": 1,
   "id": "ef60ca34",
   "metadata": {},
   "outputs": [],
   "source": [
    "import pandas as pd"
   ]
  },
  {
   "cell_type": "code",
   "execution_count": 12,
   "id": "775ddc58",
   "metadata": {},
   "outputs": [],
   "source": [
    "df = pd.DataFrame.from_dict({\n",
    "    \"requests\": [8],\n",
    "    \"accounts\": [11],\n",
    "    \"complied\": [0]\n",
    "})\n",
    "\n",
    "df.to_csv(\"../Clean_Data/23andme.csv\", index=False)"
   ]
  },
  {
   "cell_type": "code",
   "execution_count": null,
   "id": "dd749090",
   "metadata": {},
   "outputs": [],
   "source": []
  }
 ],
 "metadata": {
  "kernelspec": {
   "display_name": "Python 3",
   "language": "python",
   "name": "python3"
  },
  "language_info": {
   "codemirror_mode": {
    "name": "ipython",
    "version": 3
   },
   "file_extension": ".py",
   "mimetype": "text/x-python",
   "name": "python",
   "nbconvert_exporter": "python",
   "pygments_lexer": "ipython3",
   "version": "3.6.9"
  }
 },
 "nbformat": 4,
 "nbformat_minor": 5
}
